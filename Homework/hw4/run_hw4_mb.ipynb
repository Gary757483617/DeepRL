{
 "cells": [
  {
   "cell_type": "code",
   "execution_count": null,
   "metadata": {
    "cellView": "form",
    "id": "X-LoOdZg84pI"
   },
   "outputs": [],
   "source": [
    "## cythonize at the first import\n",
    "import mujoco_py"
   ]
  },
  {
   "cell_type": "code",
   "execution_count": null,
   "metadata": {
    "cellView": "both",
    "id": "g5xIOIpW8_jC"
   },
   "outputs": [],
   "source": [
    "#@title set up virtual display\n",
    "\n",
    "from pyvirtualdisplay import Display\n",
    "\n",
    "display = Display(visible=0, size=(1400, 900))\n",
    "display.start()\n",
    "\n",
    "# For later\n",
    "from cs285.infrastructure.colab_utils import (\n",
    "    wrap_env,\n",
    "    show_video\n",
    ")"
   ]
  },
  {
   "cell_type": "code",
   "execution_count": null,
   "metadata": {
    "cellView": "both",
    "id": "2rsWAWaK9BVp"
   },
   "outputs": [],
   "source": [
    "#@title test virtual display\n",
    "\n",
    "#@markdown If you see a video of a four-legged ant fumbling about, setup is complete!\n",
    "\n",
    "import gym\n",
    "import matplotlib\n",
    "matplotlib.use('Agg')\n",
    "\n",
    "env = wrap_env(gym.make(\"Ant-v2\"))\n",
    "\n",
    "observation = env.reset()\n",
    "for i in range(10):\n",
    "    env.render(mode='rgb_array')\n",
    "    obs, rew, term, _ = env.step(env.action_space.sample() ) \n",
    "    if term:\n",
    "      break;\n",
    "            \n",
    "env.close()\n",
    "print('Loading video...')\n",
    "show_video()"
   ]
  },
  {
   "cell_type": "code",
   "execution_count": null,
   "metadata": {
    "id": "4t7FUeEG9Dkf"
   },
   "outputs": [],
   "source": [
    "#@title imports\n",
    "import os\n",
    "import time\n",
    "\n",
    "from cs285.infrastructure.rl_trainer import RL_Trainer\n",
    "from cs285.agents.mb_agent import MBAgent\n",
    "\n",
    "%load_ext autoreload\n",
    "%autoreload 2"
   ]
  },
  {
   "cell_type": "code",
   "execution_count": null,
   "metadata": {},
   "outputs": [],
   "source": [
    "import ffmpeg\n",
    "\n",
    "def vidwrite(fn, images, framerate=10, vcodec='libx264'):\n",
    "    if not isinstance(images, np.ndarray):\n",
    "        images = np.asarray(images)\n",
    "    n,channel,height,width = images.shape\n",
    "    process = (\n",
    "        ffmpeg\n",
    "            .input('pipe:', format='rawvideo', pix_fmt='rgb24', s='{}x{}'.format(width, height))\n",
    "            .output(fn, pix_fmt='yuv420p', vcodec=vcodec, r=framerate)\n",
    "            .overwrite_output()\n",
    "            .run_async(pipe_stdin=True)\n",
    "    )\n",
    "    for frame in images:\n",
    "        process.stdin.write(\n",
    "            frame\n",
    "                .astype(np.uint8)\n",
    "                .tobytes()\n",
    "        )\n",
    "    process.stdin.close()\n",
    "    process.wait()"
   ]
  },
  {
   "cell_type": "markdown",
   "metadata": {
    "id": "Nii6qk2C9Ipk"
   },
   "source": [
    "## Run MBRL"
   ]
  },
  {
   "cell_type": "code",
   "execution_count": null,
   "metadata": {
    "id": "BwF7tQPQ66hB",
    "scrolled": true
   },
   "outputs": [],
   "source": [
    "# Problem 1\n",
    "\n",
    "!python ./run_hw4_mb.py --exp_name q1_cheetah_n500_arch1x32 \\\n",
    "    --env_name cheetah-cs285-v0 --add_sl_noise --n_iter 1 --batch_size_initial 20000 \\\n",
    "    --num_agent_train_steps_per_iter 500 --n_layers 1 --size 32 --scalar_log_freq -1 \\\n",
    "    --video_log_freq -1"
   ]
  },
  {
   "cell_type": "code",
   "execution_count": null,
   "metadata": {
    "scrolled": true
   },
   "outputs": [],
   "source": [
    "# Problem 2\n",
    "\n",
    "!python ./run_hw4_mb.py --exp_name q2_obstacles_singleiteration \\\n",
    "    --env_name obstacles-cs285-v0 --add_sl_noise --num_agent_train_steps_per_iter 80 \\\n",
    "    --n_iter 1 --batch_size_initial 5000 --batch_size 200 --mpc_horizon 15 \\\n",
    "    --video_log_freq 1 -lr 0.005"
   ]
  },
  {
   "cell_type": "code",
   "execution_count": null,
   "metadata": {
    "scrolled": true
   },
   "outputs": [],
   "source": [
    "# Problem 3\n",
    "\n",
    "!python ./run_hw4_mb.py --exp_name q3_obstacles --env_name obstacles-cs285-v0 \\\n",
    "    --add_sl_noise --num_agent_train_steps_per_iter 20 --batch_size_initial 5000 \\\n",
    "    --batch_size 200 --mpc_horizon 10 --n_iter 12 -lr 0.002 --video_log_freq 2"
   ]
  },
  {
   "cell_type": "code",
   "execution_count": null,
   "metadata": {},
   "outputs": [],
   "source": [
    "import numpy as np\n",
    "\n",
    "%cd \"/root/Deep_RL_course/homework/hw4/data/hw4_q3_obstacles_obstacles-cs285-v0_28-11-2020_18-49-36\"\n",
    "\n",
    "array = np.load(\"train_rollouts_12.npy\")\n",
    "print(array.shape)\n",
    "vidwrite(\"output.avi\", array[0], framerate=10)"
   ]
  },
  {
   "cell_type": "code",
   "execution_count": null,
   "metadata": {
    "scrolled": true
   },
   "outputs": [],
   "source": [
    "# Problem 4\n",
    "\n",
    "!python ./run_hw4_mb.py --exp_name q4_reacher_horizon5 --env_name reacher-cs285-v0 \\\n",
    "    --add_sl_noise --mpc_horizon 5 --num_agent_train_steps_per_iter 500 \\\n",
    "    --batch_size 500 --n_iter 1"
   ]
  },
  {
   "cell_type": "code",
   "execution_count": null,
   "metadata": {},
   "outputs": [],
   "source": [
    "import numpy as np\n",
    "\n",
    "%cd \"/root/Deep_RL_course/homework/hw4/data/hw4_q3_obstacles_obstacles-cs285-v0_28-11-2020_18-49-36\"\n",
    "\n",
    "array = np.load(\"train_rollouts_12.npy\")\n",
    "print(array.shape)\n",
    "vidwrite(\"output.avi\", array[0], framerate=50)"
   ]
  }
 ],
 "metadata": {
  "accelerator": "GPU",
  "colab": {
   "collapsed_sections": [],
   "name": "run_hw4_mb.ipynb",
   "provenance": []
  },
  "kernelspec": {
   "display_name": "Python 3",
   "language": "python",
   "name": "python3"
  },
  "language_info": {
   "codemirror_mode": {
    "name": "ipython",
    "version": 3
   },
   "file_extension": ".py",
   "mimetype": "text/x-python",
   "name": "python",
   "nbconvert_exporter": "python",
   "pygments_lexer": "ipython3",
   "version": "3.6.2"
  }
 },
 "nbformat": 4,
 "nbformat_minor": 4
}
