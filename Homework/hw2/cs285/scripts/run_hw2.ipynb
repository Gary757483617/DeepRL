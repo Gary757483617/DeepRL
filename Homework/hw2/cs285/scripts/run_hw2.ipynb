{
 "cells": [
  {
   "cell_type": "markdown",
   "metadata": {
    "colab_type": "text",
    "id": "Xd-g5Z7xhWVt"
   },
   "source": [
    "Ensure your `mjkey.txt` is in /content/cs285_f2020/mujoco before this step"
   ]
  },
  {
   "cell_type": "code",
   "execution_count": null,
   "metadata": {
    "cellView": "form",
    "colab": {},
    "colab_type": "code",
    "id": "-p6i5TqAhW4a"
   },
   "outputs": [],
   "source": [
    "## cythonize at the first import\n",
    "import mujoco_py"
   ]
  },
  {
   "cell_type": "code",
   "execution_count": 2,
   "metadata": {
    "cellView": "form",
    "colab": {},
    "colab_type": "code",
    "id": "noinfUbHiHW2"
   },
   "outputs": [
    {
     "data": {
      "text/plain": [
       "<pyvirtualdisplay.display.Display at 0x7fabb5c0d4e0>"
      ]
     },
     "execution_count": 2,
     "metadata": {},
     "output_type": "execute_result"
    }
   ],
   "source": [
    "#@title set up virtual display\n",
    "\n",
    "from pyvirtualdisplay import Display\n",
    "\n",
    "display = Display(visible=0, size=(1400, 900))\n",
    "display.start()"
   ]
  },
  {
   "cell_type": "code",
   "execution_count": 3,
   "metadata": {},
   "outputs": [],
   "source": [
    "import ffmpeg\n",
    "\n",
    "def vidwrite(fn, images, framerate=10, vcodec='libx264'):\n",
    "    if not isinstance(images, np.ndarray):\n",
    "        images = np.asarray(images)\n",
    "    n,channel,height,width = images.shape\n",
    "    process = (\n",
    "        ffmpeg\n",
    "            .input('pipe:', format='rawvideo', pix_fmt='rgb24', s='{}x{}'.format(width, height))\n",
    "            .output(fn, pix_fmt='yuv420p', vcodec=vcodec, r=framerate)\n",
    "            .overwrite_output()\n",
    "            .run_async(pipe_stdin=True)\n",
    "    )\n",
    "    for frame in images:\n",
    "        process.stdin.write(\n",
    "            frame\n",
    "                .astype(np.uint8)\n",
    "                .tobytes()\n",
    "        )\n",
    "    process.stdin.close()\n",
    "    process.wait()"
   ]
  },
  {
   "cell_type": "code",
   "execution_count": 4,
   "metadata": {
    "cellView": "form",
    "colab": {},
    "colab_type": "code",
    "id": "lN-gZkqiijnR"
   },
   "outputs": [
    {
     "name": "stdout",
     "output_type": "stream",
     "text": [
      "/root/Deep_RL_course/homework/hw2\n"
     ]
    }
   ],
   "source": [
    "#@title imports\n",
    "%cd '/root/Deep_RL_course/homework/hw2/'\n",
    "\n",
    "import os\n",
    "import time\n",
    "\n",
    "from cs285.infrastructure.rl_trainer import RL_Trainer\n",
    "from cs285.agents.pg_agent import PGAgent\n",
    "\n",
    "%reload_ext autoreload\n",
    "%autoreload 2"
   ]
  },
  {
   "cell_type": "markdown",
   "metadata": {},
   "source": [
    "### Task 1"
   ]
  },
  {
   "cell_type": "code",
   "execution_count": null,
   "metadata": {
    "scrolled": true
   },
   "outputs": [],
   "source": [
    "%cd '/root/Deep_RL_course/homework/hw2/'\n",
    "\n",
    "!python ./run_hw2.py --env_name CartPole-v0 -n 100 -b 5000 \\\n",
    "-rtg -dsa --exp_name q1_lb_rtg_dsa --video_log_freq 10"
   ]
  },
  {
   "cell_type": "code",
   "execution_count": null,
   "metadata": {
    "scrolled": true
   },
   "outputs": [],
   "source": [
    "# For solution\n",
    "%cd '/root/Deep_RL_course/cs285-solutions/hw2'\n",
    "\n",
    "!python ./run_hw2_policy_gradient.py --env_name CartPole-v0 -n 100 -b 5000 \\\n",
    "-rtg -dsa --exp_name q1_lb_rtg_dsa --video_log_freq 10"
   ]
  },
  {
   "cell_type": "markdown",
   "metadata": {},
   "source": [
    "### Task 2"
   ]
  },
  {
   "cell_type": "code",
   "execution_count": null,
   "metadata": {
    "scrolled": true
   },
   "outputs": [],
   "source": [
    "%cd '/root/Deep_RL_course/homework/hw2/'\n",
    "\n",
    "!python ./run_hw2.py --env_name InvertedPendulum-v2 \\\n",
    "--ep_len 1000 --discount 0.9 -n 100 -l 2 -s 64 -b 50 -lr 5e-3 -rtg \\\n",
    "--exp_name q2_b_100_r_5e-3 --video_log_freq 10"
   ]
  },
  {
   "cell_type": "code",
   "execution_count": null,
   "metadata": {
    "scrolled": true
   },
   "outputs": [],
   "source": [
    "# For solution\n",
    "%cd '/root/Deep_RL_course/cs285-solutions/hw2'\n",
    "\n",
    "!python ./run_hw2_policy_gradient.py --env_name InvertedPendulum-v2 \\\n",
    "--ep_len 1000 --discount 0.9 -n 100 -l 2 -s 64 -b 50 -lr 5e-3 -rtg \\\n",
    "--exp_name q2_b_100_r_5e-3 --video_log_freq 10"
   ]
  },
  {
   "cell_type": "code",
   "execution_count": null,
   "metadata": {},
   "outputs": [],
   "source": [
    "import numpy as np\n",
    "\n",
    "%cd \"/root/Deep_RL_course/homework/hw2/data/q2_b_100_r_5e-3_InvertedPendulum-v2_08-11-2020_13-41-39\"\n",
    "\n",
    "array = np.load(\"eval_rollouts_30.npy\")\n",
    "vidwrite(\"output.avi\", array[0], framerate=25)"
   ]
  },
  {
   "cell_type": "markdown",
   "metadata": {},
   "source": [
    "### Task 3"
   ]
  },
  {
   "cell_type": "code",
   "execution_count": null,
   "metadata": {
    "scrolled": true
   },
   "outputs": [],
   "source": [
    "%cd '/root/Deep_RL_course/homework/hw2/'\n",
    "\n",
    "!python ./run_hw2.py --env_name LunarLanderContinuous-v2 --ep_len 1000 \\\n",
    "--discount 0.99 -n 100 -l 2 -s 64 -b 3000 -lr 0.01 \\\n",
    "--reward_to_go --nn_baseline --exp_name q3_b40000_r0.005 --video_log_freq 40"
   ]
  },
  {
   "cell_type": "code",
   "execution_count": null,
   "metadata": {
    "scrolled": true
   },
   "outputs": [],
   "source": [
    "# For solution\n",
    "%cd '/root/Deep_RL_course/cs285-solutions/hw2'\n",
    "\n",
    "!python ./run_hw2_policy_gradient.py --env_name LunarLanderContinuous-v2 --ep_len 1000 \\\n",
    "--discount 0.99 -n 100 -l 2 -s 64 -b 5000 -lr 0.005 \\\n",
    "--reward_to_go --nn_baseline --exp_name q3_b40000_r0.005 --video_log_freq 10"
   ]
  },
  {
   "cell_type": "code",
   "execution_count": null,
   "metadata": {},
   "outputs": [],
   "source": [
    "import numpy as np\n",
    "\n",
    "%cd \"/root/Deep_RL_course/homework/hw2/data/q3_b40000_r0.005_LunarLanderContinuous-v2_08-11-2020_22-02-31\"\n",
    "\n",
    "array = np.load(\"eval_rollouts_60.npy\")\n",
    "print(array.shape)\n",
    "vidwrite(\"output.avi\", array[0], framerate=50)"
   ]
  },
  {
   "cell_type": "markdown",
   "metadata": {},
   "source": [
    "### Task 4"
   ]
  },
  {
   "cell_type": "code",
   "execution_count": null,
   "metadata": {
    "scrolled": true
   },
   "outputs": [],
   "source": [
    "%cd '/root/Deep_RL_course/homework/hw2/'\n",
    "\n",
    "!python ./run_hw2.py --env_name HalfCheetah-v2 --ep_len 120 \\\n",
    "--discount 0.95 -n 120 -l 2 -s 32 -b 20000 -lr 0.02 -decay 0.99 -rtg --nn_baseline \\\n",
    "--exp_name q4_search_b15k_lr4e-2_rtg_nnbaseline --video_log_freq 4 "
   ]
  },
  {
   "cell_type": "code",
   "execution_count": 8,
   "metadata": {},
   "outputs": [
    {
     "name": "stdout",
     "output_type": "stream",
     "text": [
      "/root/Deep_RL_course/homework/hw2/data/q4_search_b15k_lr4e-2_rtg_nnbaseline_HalfCheetah-v2_10-11-2020_00-14-51\n",
      "(2, 120, 3, 500, 500)\n"
     ]
    }
   ],
   "source": [
    "import numpy as np\n",
    "\n",
    "%cd \"/root/Deep_RL_course/homework/hw2/data/q4_search_b15k_lr4e-2_rtg_nnbaseline_HalfCheetah-v2_10-11-2020_00-14-51\"\n",
    "\n",
    "array = np.load(\"eval_rollouts_20.npy\")\n",
    "print(array.shape)\n",
    "vidwrite(\"output.avi\", array[0], framerate=20)"
   ]
  },
  {
   "cell_type": "code",
   "execution_count": null,
   "metadata": {},
   "outputs": [],
   "source": []
  }
 ],
 "metadata": {
  "accelerator": "GPU",
  "colab": {
   "collapsed_sections": [],
   "name": "run_hw2.ipynb",
   "provenance": [],
   "toc_visible": true
  },
  "kernelspec": {
   "display_name": "Python 3",
   "language": "python",
   "name": "python3"
  },
  "language_info": {
   "codemirror_mode": {
    "name": "ipython",
    "version": 3
   },
   "file_extension": ".py",
   "mimetype": "text/x-python",
   "name": "python",
   "nbconvert_exporter": "python",
   "pygments_lexer": "ipython3",
   "version": "3.6.2"
  }
 },
 "nbformat": 4,
 "nbformat_minor": 4
}
