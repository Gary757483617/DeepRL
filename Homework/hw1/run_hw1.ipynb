{
 "cells": [
  {
   "cell_type": "code",
   "execution_count": null,
   "metadata": {
    "cellView": "both",
    "id": "QeDMsMOXUAkN"
   },
   "outputs": [],
   "source": [
    "#@title download mujoco\n",
    "\n",
    "!wget -q https://www.roboti.us/download/mujoco200_linux.zip\n",
    "!unzip -q mujoco200_linux.zip"
   ]
  },
  {
   "cell_type": "markdown",
   "metadata": {
    "id": "JI_nuhTulBvU"
   },
   "source": [
    "#### Copy over `mjkey.txt` into `.../mujoco` before the following step"
   ]
  },
  {
   "cell_type": "code",
   "execution_count": null,
   "metadata": {},
   "outputs": [],
   "source": [
    "MJC_PATH = \"root/Deep_RL_course\"\n",
    "MJC_PATH"
   ]
  },
  {
   "cell_type": "code",
   "execution_count": null,
   "metadata": {
    "cellView": "both",
    "id": "amF0DgEyklFl"
   },
   "outputs": [],
   "source": [
    "#@title clone and install mujoco-py\n",
    "\n",
    "%cd $MJC_PATH\n",
    "!git clone https://github.com/openai/mujoco-py.git\n",
    "%cd mujoco-py\n",
    "!pip install -e."
   ]
  },
  {
   "cell_type": "markdown",
   "metadata": {},
   "source": [
    "#### Specify the key file path in .bashrc before the following step"
   ]
  },
  {
   "cell_type": "code",
   "execution_count": null,
   "metadata": {
    "scrolled": true
   },
   "outputs": [],
   "source": [
    "!pip --no-cache-dir install -r requirements.txt"
   ]
  },
  {
   "cell_type": "code",
   "execution_count": null,
   "metadata": {
    "scrolled": true
   },
   "outputs": [],
   "source": [
    "%cd mujoco-py\n",
    "!pip install -r requirements.dev.txt\n",
    "!pip install mujoco-py==2.0.2.2"
   ]
  },
  {
   "cell_type": "code",
   "execution_count": 1,
   "metadata": {
    "id": "tEMp5ZCvXTUL"
   },
   "outputs": [],
   "source": [
    "## cythonize at the first import\n",
    "import mujoco_py"
   ]
  },
  {
   "cell_type": "code",
   "execution_count": null,
   "metadata": {
    "cellView": "form",
    "id": "X_aXQac0f3pr"
   },
   "outputs": [],
   "source": [
    "#@title clone homework repo\n",
    "\n",
    "%cd $SYM_PATH\n",
    "!git clone https://github.com/berkeleydeeprlcourse/homework_fall2020.git"
   ]
  },
  {
   "cell_type": "code",
   "execution_count": 2,
   "metadata": {
    "cellView": "form",
    "id": "8y_M1tGxmGhT"
   },
   "outputs": [
    {
     "data": {
      "text/plain": [
       "<pyvirtualdisplay.display.Display at 0x7fc91605ce80>"
      ]
     },
     "execution_count": 2,
     "metadata": {},
     "output_type": "execute_result"
    }
   ],
   "source": [
    "#@title set up virtual display\n",
    "\n",
    "from pyvirtualdisplay import Display\n",
    "\n",
    "display = Display(visible=0, size=(1400, 900))\n",
    "display.start()"
   ]
  },
  {
   "cell_type": "code",
   "execution_count": null,
   "metadata": {
    "cellView": "form",
    "colab": {
     "base_uri": "https://localhost:8080/",
     "height": 438
    },
    "id": "y7cywOEgo4a8",
    "outputId": "c91293e2-0424-4427-b57e-0e12653c991a"
   },
   "outputs": [],
   "source": [
    "#@title test virtual display\n",
    "\n",
    "#@markdown If you see a video of a four-legged ant fumbling about, setup is complete!\n",
    "\n",
    "import gym\n",
    "from cs285.infrastructure.colab_utils import (\n",
    "    wrap_env,\n",
    "    show_video\n",
    ") \n",
    "\n",
    "env = wrap_env(gym.make(\"Ant-v2\"))\n",
    "\n",
    "observation = env.reset()\n",
    "for i in range(100):\n",
    "    env.render(mode='rgb_array')\n",
    "    obs, rew, term, _ = env.step(env.action_space.sample() ) \n",
    "    if term:\n",
    "      break;\n",
    "            \n",
    "env.close()\n",
    "print('Loading video...')\n",
    "show_video()"
   ]
  },
  {
   "cell_type": "markdown",
   "metadata": {
    "id": "UunygyDXrx7k"
   },
   "source": [
    "## Run Behavior Cloning (Problem 1)"
   ]
  },
  {
   "cell_type": "code",
   "execution_count": 4,
   "metadata": {
    "cellView": "form",
    "id": "enh5ZMHftEO7"
   },
   "outputs": [],
   "source": [
    "#@title imports\n",
    "\n",
    "import os\n",
    "import time\n",
    "import numpy as np\n",
    "\n",
    "from cs285.infrastructure.rl_trainer import RL_Trainer\n",
    "from cs285.agents.bc_agent import BCAgent\n",
    "from cs285.policies.loaded_gaussian_policy import LoadedGaussianPolicy\n",
    "\n",
    "%load_ext autoreload\n",
    "%autoreload 2"
   ]
  },
  {
   "cell_type": "code",
   "execution_count": 5,
   "metadata": {},
   "outputs": [],
   "source": [
    "import ffmpeg\n",
    "\n",
    "def vidwrite(fn, images, framerate=10, vcodec='libx264'):\n",
    "    if not isinstance(images, np.ndarray):\n",
    "        images = np.asarray(images)\n",
    "    n,channel,height,width = images.shape\n",
    "    process = (\n",
    "        ffmpeg\n",
    "            .input('pipe:', format='rawvideo', pix_fmt='rgb24', s='{}x{}'.format(width, height))\n",
    "            .output(fn, pix_fmt='yuv420p', vcodec=vcodec, r=framerate)\n",
    "            .overwrite_output()\n",
    "            .run_async(pipe_stdin=True)\n",
    "    )\n",
    "    for frame in images:\n",
    "        process.stdin.write(\n",
    "            frame\n",
    "                .astype(np.uint8)\n",
    "                .tobytes()\n",
    "        )\n",
    "    process.stdin.close()\n",
    "    process.wait()"
   ]
  },
  {
   "cell_type": "code",
   "execution_count": null,
   "metadata": {
    "scrolled": true
   },
   "outputs": [],
   "source": [
    "!python /root/Deep_RL_course/homework/hw1/run_hw1.py \\\n",
    "--expert_policy_file cs285/policies/experts/Ant.pkl \\\n",
    "--env_name Ant-v2 --exp_name dagger_ant --n_iter 20 \\\n",
    "--do_dagger --expert_data cs285/expert_data/expert_data_Ant-v2.pkl \\\n",
    "--video_log_freq 2"
   ]
  },
  {
   "cell_type": "code",
   "execution_count": null,
   "metadata": {},
   "outputs": [],
   "source": [
    "import numpy as np\n",
    "\n",
    "%cd \"/root/Deep_RL_course/homework/hw1/data/q2_dagger_ant_Ant-v2_03-12-2020_19-49-59\"\n",
    "\n",
    "array = np.load(\"train_rollouts_8.npy\")\n",
    "print(array.shape)\n",
    "vidwrite(\"output.avi\", array[0], framerate=20)"
   ]
  },
  {
   "cell_type": "markdown",
   "metadata": {
    "id": "ff9onuUPfPEa"
   },
   "source": [
    "## Running DAgger (Problem 2)\n",
    "Modify the settings above:\n",
    "1. check the `do_dagger` box\n",
    "2. set `n_iters` to `10`\n",
    "and then rerun the code."
   ]
  },
  {
   "cell_type": "code",
   "execution_count": null,
   "metadata": {
    "scrolled": true
   },
   "outputs": [],
   "source": [
    "!python /root/Deep_RL_course/homework/hw1/run_hw1.py \\\n",
    "--expert_policy_file cs285/policies/experts/Humanoid.pkl \\\n",
    "--env_name Humanoid-v2 --exp_name DAgger_human --n_iter 10 --do_dagger \\\n",
    "--expert_data cs285/expert_data/expert_data_Humanoid-v2.pkl \\\n",
    "--train_batch_size 1000 --eval_batch_size 500 --n_layers 4 \\\n",
    "--video_log_freq 1"
   ]
  },
  {
   "cell_type": "code",
   "execution_count": 8,
   "metadata": {},
   "outputs": [
    {
     "name": "stdout",
     "output_type": "stream",
     "text": [
      "/root/Deep_RL_course/homework/hw1/data/q2_DAgger_human_Humanoid-v2_03-12-2020_19-58-59\n",
      "(2, 22, 3, 500, 500)\n"
     ]
    }
   ],
   "source": [
    "import numpy as np\n",
    "\n",
    "%cd \"/root/Deep_RL_course/homework/hw1/data/q2_DAgger_human_Humanoid-v2_03-12-2020_19-58-59\"\n",
    "\n",
    "array = np.load(\"eval_rollouts_4.npy\")\n",
    "print(array.shape)\n",
    "vidwrite(\"output.avi\", array[0], framerate=67)"
   ]
  },
  {
   "cell_type": "code",
   "execution_count": null,
   "metadata": {},
   "outputs": [],
   "source": []
  }
 ],
 "metadata": {
  "accelerator": "GPU",
  "colab": {
   "collapsed_sections": [],
   "name": "Deep_RL_hw1",
   "provenance": [],
   "toc_visible": true
  },
  "kernelspec": {
   "display_name": "Python 3",
   "language": "python",
   "name": "python3"
  },
  "language_info": {
   "codemirror_mode": {
    "name": "ipython",
    "version": 3
   },
   "file_extension": ".py",
   "mimetype": "text/x-python",
   "name": "python",
   "nbconvert_exporter": "python",
   "pygments_lexer": "ipython3",
   "version": "3.6.2"
  }
 },
 "nbformat": 4,
 "nbformat_minor": 4
}
